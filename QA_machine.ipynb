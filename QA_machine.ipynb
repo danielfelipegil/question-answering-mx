{
 "cells": [
  {
   "cell_type": "markdown",
   "metadata": {},
   "source": [
    "# Question Answering Machine\n",
    "\n",
    "### Final Project for AMLPP\n",
    "\n",
    "### Carlos Grandet & Hector Salvador\n",
    "\n",
    "The following is a demo for a question answering machine (QAM) that we build for a machine learning class. The QAM uses several NLP tools such as Stanford POSTagger, Word2Vec and \n",
    "BM25. "
   ]
  },
  {
   "cell_type": "code",
   "execution_count": 1,
   "metadata": {
    "collapsed": true
   },
   "outputs": [],
   "source": [
    "# First step, load the relevant libraries and classes\n",
    "\n",
    "from question_processing import Question\n",
    "from synonyms import Synonyms\n",
    "from Word2VecModel import W2V_Model \n",
    "from spanish_tagger import Spanish_Postagger\n",
    "from query import Query\n",
    "import json\n",
    "\n",
    "# Then name the different files you will use to make the code work\n",
    "\n",
    "tagfile = 'stanford-postagger-full-2016-10-31/models/spanish.tagger'\n",
    "jarfile = 'stanford-postagger-full-2016-10-31/stanford-postagger.jar'\n",
    "\n",
    "# Data for synonyms API\n",
    "APIfile = 'http://store.apicultur.com/api/sinonimosporpalabra/1.0.0/' \n",
    "token = 'f7JE_2svUVwP5ARGfw8aQhnLXlga'\n",
    "\n",
    "# Data for w2v model\n",
    "w2vfile = 'SBW-vectors-300-min5.txt'\n",
    "\n",
    "# Data for question_type\n",
    "question_json = 'Data/question_type.json'\n",
    "stopwords = 'Data/stopwords.json'\n"
   ]
  },
  {
   "cell_type": "markdown",
   "metadata": {},
   "source": [
    "### Create a Query class, which allows you to make questions, get queries and find related words. \n",
    "\n",
    "Creating this query might take a while, since you need to load a Word2Vec model that is over 2.5 GB!!! We advise running the code below only once"
   ]
  },
  {
   "cell_type": "code",
   "execution_count": 2,
   "metadata": {
    "collapsed": false
   },
   "outputs": [],
   "source": [
    "query = Query(APIfile, token, tagfile, jarfile, \n",
    "    w2vfile)"
   ]
  },
  {
   "cell_type": "markdown",
   "metadata": {},
   "source": [
    "Once we have created the Query class, we can start asking various questions"
   ]
  },
  {
   "cell_type": "code",
   "execution_count": 3,
   "metadata": {
    "collapsed": false
   },
   "outputs": [
    {
     "name": "stdout",
     "output_type": "stream",
     "text": [
      "http://store.apicultur.com/api/sinonimosporpalabra/1.0.0/homicidio\n",
      "Bearer f7JE_2svUVwP5ARGfw8aQhnLXlga\n"
     ]
    }
   ],
   "source": [
    "question = \"¿Cuál es el castigo por homicidio?\"\n",
    "\n",
    "#set_question loads a question and a json file with info about the words that represent \n",
    "#a question type (i.e. time: years, period, days, etc )\n",
    "query.set_question(question, question_json)\n",
    "\n",
    "#get_query gives you a specific query list\n",
    "query.get_query(stopwords)\n"
   ]
  },
  {
   "cell_type": "markdown",
   "metadata": {},
   "source": [
    "You can access the query selected for that question and the question type with \n",
    "the following attributes"
   ]
  },
  {
   "cell_type": "code",
   "execution_count": 13,
   "metadata": {
    "collapsed": false
   },
   "outputs": [
    {
     "name": "stdout",
     "output_type": "stream",
     "text": [
      "{'delito', 'culposo', 'homicidio', 'homicido', 'crimen'}\n",
      "['años']\n"
     ]
    }
   ],
   "source": [
    "print(query.query)\n",
    "print(query.qtype)"
   ]
  },
  {
   "cell_type": "markdown",
   "metadata": {},
   "source": [
    "You can also add words to the query, if you want"
   ]
  },
  {
   "cell_type": "code",
   "execution_count": 5,
   "metadata": {
    "collapsed": false
   },
   "outputs": [
    {
     "ename": "NameError",
     "evalue": "name 'list_noun' is not defined",
     "output_type": "error",
     "traceback": [
      "\u001b[1;31m---------------------------------------------------------------------------\u001b[0m",
      "\u001b[1;31mNameError\u001b[0m                                 Traceback (most recent call last)",
      "\u001b[1;32m<ipython-input-5-05f7a81fea3b>\u001b[0m in \u001b[0;36m<module>\u001b[1;34m()\u001b[0m\n\u001b[1;32m----> 1\u001b[1;33m \u001b[0mquery\u001b[0m\u001b[1;33m.\u001b[0m\u001b[0madd_words\u001b[0m\u001b[1;33m(\u001b[0m\u001b[1;33m[\u001b[0m\u001b[1;34m\"asesinato\"\u001b[0m\u001b[1;33m,\u001b[0m \u001b[1;34m\"imprudencial\"\u001b[0m\u001b[1;33m]\u001b[0m\u001b[1;33m)\u001b[0m\u001b[1;33m\u001b[0m\u001b[0m\n\u001b[0m",
      "\u001b[1;32m/home/student/AMLPP/Project/query.py\u001b[0m in \u001b[0;36madd_words\u001b[1;34m(self, word_list)\u001b[0m\n\u001b[0;32m     87\u001b[0m         \u001b[1;32mdef\u001b[0m \u001b[0madd_words\u001b[0m\u001b[1;33m(\u001b[0m\u001b[0mself\u001b[0m\u001b[1;33m,\u001b[0m \u001b[0mword_list\u001b[0m\u001b[1;33m)\u001b[0m\u001b[1;33m:\u001b[0m\u001b[1;33m\u001b[0m\u001b[0m\n\u001b[0;32m     88\u001b[0m \u001b[1;33m\u001b[0m\u001b[0m\n\u001b[1;32m---> 89\u001b[1;33m                 \u001b[0mself\u001b[0m\u001b[1;33m.\u001b[0m\u001b[0mquery\u001b[0m \u001b[1;33m+=\u001b[0m \u001b[0mlist_noun\u001b[0m\u001b[1;33m\u001b[0m\u001b[0m\n\u001b[0m\u001b[0;32m     90\u001b[0m \u001b[1;33m\u001b[0m\u001b[0m\n\u001b[0;32m     91\u001b[0m \u001b[1;33m\u001b[0m\u001b[0m\n",
      "\u001b[1;31mNameError\u001b[0m: name 'list_noun' is not defined"
     ]
    }
   ],
   "source": [
    "query.add_words([\"asesinato\", \"imprudencial\"])"
   ]
  },
  {
   "cell_type": "markdown",
   "metadata": {},
   "source": [
    "You can also remove words"
   ]
  },
  {
   "cell_type": "code",
   "execution_count": 9,
   "metadata": {
    "collapsed": true
   },
   "outputs": [],
   "source": [
    "query.remove_words([\"asesinato\", \"doloso\"])"
   ]
  },
  {
   "cell_type": "code",
   "execution_count": 10,
   "metadata": {
    "collapsed": false
   },
   "outputs": [
    {
     "data": {
      "text/plain": [
       "{'crimen', 'culposo', 'delito', 'homicidio', 'homicido'}"
      ]
     },
     "execution_count": 10,
     "metadata": {},
     "output_type": "execute_result"
    }
   ],
   "source": [
    "query.query"
   ]
  },
  {
   "cell_type": "markdown",
   "metadata": {},
   "source": [
    "Finally, you can play with word to vec to find other words that could match your query or find words that do not belong there"
   ]
  },
  {
   "cell_type": "code",
   "execution_count": 7,
   "metadata": {
    "collapsed": false
   },
   "outputs": [
    {
     "data": {
      "text/plain": [
       "['reina']"
      ]
     },
     "execution_count": 7,
     "metadata": {},
     "output_type": "execute_result"
    }
   ],
   "source": [
    "query.W2V.find_concepts(positive = [\"rey\", \"mujer\"], negative = [\"hombre\"], top_n = 1)"
   ]
  },
  {
   "cell_type": "code",
   "execution_count": 8,
   "metadata": {
    "collapsed": false
   },
   "outputs": [
    {
     "data": {
      "text/plain": [
       "'pelota'"
      ]
     },
     "execution_count": 8,
     "metadata": {},
     "output_type": "execute_result"
    }
   ],
   "source": [
    "query.W2V.intruder([\"rana\", \"pato\", \"simio\", \"pelota\"])"
   ]
  },
  {
   "cell_type": "markdown",
   "metadata": {},
   "source": [
    "### Once you have a query, the next step is to use information retrieval to find the relevant documents"
   ]
  }
 ],
 "metadata": {
  "kernelspec": {
   "display_name": "Python 3",
   "language": "python",
   "name": "python3"
  },
  "language_info": {
   "codemirror_mode": {
    "name": "ipython",
    "version": 3
   },
   "file_extension": ".py",
   "mimetype": "text/x-python",
   "name": "python",
   "nbconvert_exporter": "python",
   "pygments_lexer": "ipython3",
   "version": "3.5.2"
  }
 },
 "nbformat": 4,
 "nbformat_minor": 0
}
